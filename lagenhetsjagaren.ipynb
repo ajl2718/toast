{
 "cells": [
  {
   "cell_type": "markdown",
   "id": "1c8902c7",
   "metadata": {},
   "source": [
    "## Lägenhetsjägaren (The Apartment Hunter, 2022)\n",
    "\n",
    "29 January 2022\n",
    "\n",
    "A Swedish drama about a man who must find a flat. But not all is what it seems..."
   ]
  },
  {
   "cell_type": "code",
   "execution_count": 1,
   "id": "df0e83b9",
   "metadata": {},
   "outputs": [],
   "source": [
    "import requests\n",
    "import pandas as pd\n",
    "import numpy as np\n",
    "from lxml import html\n",
    "\n",
    "from scraping_utils import get_data_from_page, create_urllist\n",
    "from cleaning_utils import clean_price_column\n",
    "\n",
    "import re"
   ]
  },
  {
   "cell_type": "code",
   "execution_count": 2,
   "id": "fb1364c3",
   "metadata": {},
   "outputs": [],
   "source": [
    "headers_info = {'Host': 'www.realestate.com.au', \n",
    "                'User-Agent': 'Mozilla/5.0 (X11; Ubuntu; Linux x86_64; rv:105.0) Gecko/20100101 Firefox/105.0',\n",
    "                'Accept': 'text/html,application/xhtml+xml,application/xml;q=0.9,image/avif,image/webp,*/*;q=0.8',\n",
    "                'Cookie': 'reauid=165f301772670000e401f2629c030000cf740100; mid=11604324607491749210; utag_main=v_id:0183a1b78bfa000df68706d9f1870504e004900900bd0; split_audience=c; KP2_UIDz-ssn=0dwTSAWPurUNrYSnIzsFxpGTMNjc8M6Sjmoc9m5E6JesN6RTHSO4bnaxbIKDsl8lvUTczXiLmsl3Fxwn9Hf73Ypfh4VHaSSQkUdJYbX22exsC4HXWEwNzJ7I733M3Zvw0jHUTAa2cJpKzWN3H4cp09pV; KP2_UIDz=0dwTSAWPurUNrYSnIzsFxpGTMNjc8M6Sjmoc9m5E6JesN6RTHSO4bnaxbIKDsl8lvUTczXiLmsl3Fxwn9Hf73Ypfh4VHaSSQkUdJYbX22exsC4HXWEwNzJ7I733M3Zvw0jHUTAa2cJpKzWN3H4cp09pV; Country=AU; fullstory_audience_split=B',\n",
    "                'Upgrade-Insecure-Requests': '1'}"
   ]
  },
  {
   "cell_type": "markdown",
   "id": "0c2eb162",
   "metadata": {},
   "source": [
    "## Scrape data\n",
    "\n",
    "This gathers the high-level data for properties in each of the suburb-postcode combinations specified below."
   ]
  },
  {
   "cell_type": "code",
   "execution_count": 3,
   "id": "6f5c3f2a",
   "metadata": {},
   "outputs": [],
   "source": [
    "suburb_postcodes = ['fairfield,+vic+3078', 'brunswick,+vic+3056', 'carlton,+vic+3053', 'hawthorn,+vic+3122',\n",
    "                   'camberwell,+vic+3124', 'moonee+ponds,+vic+3039', 'fitzroy,+vic+3065', 'elsternwick,+vic+3185']"
   ]
  },
  {
   "cell_type": "code",
   "execution_count": 4,
   "id": "a9ba17a9",
   "metadata": {},
   "outputs": [],
   "source": [
    "urls = create_urllist(suburb_postcodes, 10)"
   ]
  },
  {
   "cell_type": "code",
   "execution_count": null,
   "id": "cb891084",
   "metadata": {},
   "outputs": [],
   "source": [
    "dfs = []\n",
    "\n",
    "for url in urls:\n",
    "    print(f'Scraping URL: {url}')\n",
    "    page = requests.get(url, headers=headers_info)\n",
    "    tree = html.fromstring(page.text)\n",
    "    df_temp = pd.DataFrame(get_data_from_page(tree))\n",
    "    dfs.append(df_temp)"
   ]
  },
  {
   "cell_type": "code",
   "execution_count": 6,
   "id": "60e6957b",
   "metadata": {},
   "outputs": [],
   "source": [
    "df = pd.concat(dfs).drop_duplicates()"
   ]
  },
  {
   "cell_type": "markdown",
   "id": "dcae9ec0",
   "metadata": {},
   "source": [
    "## Data Cleaning\n",
    "\n",
    "Prices are recorded in a text field, often with unnecessary other text. The cleaning steps removes this and creates columns for the minimum and maximum price specified for each property."
   ]
  },
  {
   "cell_type": "code",
   "execution_count": 7,
   "id": "525e0681",
   "metadata": {},
   "outputs": [],
   "source": [
    "df = clean_price_column(df)"
   ]
  },
  {
   "cell_type": "markdown",
   "id": "6031a99b",
   "metadata": {},
   "source": [
    "## Scrape additional data for each property\n",
    "\n",
    "This gathers the data available on each of the pages of the properties, especially the text."
   ]
  },
  {
   "cell_type": "code",
   "execution_count": 10,
   "id": "b9534ced",
   "metadata": {},
   "outputs": [],
   "source": [
    "texts = []\n",
    "\n",
    "path_text = './/span[@class=\"property-description__content\"]/text()'"
   ]
  },
  {
   "cell_type": "code",
   "execution_count": null,
   "id": "1ae3fa53",
   "metadata": {},
   "outputs": [],
   "source": [
    "# for each of the properties, get the text description\n",
    "url_base = 'https://www.realestate.com.au'\n",
    "\n",
    "for n, url in enumerate(df.link.values):\n",
    "    print(f'Scraping property {n}')\n",
    "    property_url = f'{url_base}{url}'\n",
    "    page = requests.get(property_url, headers=headers_info)\n",
    "    tree = html.fromstring(page.text)\n",
    "    property_text = ' '.join(tree.xpath(path_text))\n",
    "    texts.append(property_text)"
   ]
  },
  {
   "cell_type": "code",
   "execution_count": 12,
   "id": "69c9b4af",
   "metadata": {},
   "outputs": [],
   "source": [
    "df = (\n",
    "    df\n",
    "    .assign(description=texts)\n",
    ")"
   ]
  },
  {
   "cell_type": "markdown",
   "id": "428ad7c3",
   "metadata": {},
   "source": [
    "## Write the data"
   ]
  },
  {
   "cell_type": "code",
   "execution_count": 14,
   "id": "c52d927a",
   "metadata": {},
   "outputs": [],
   "source": [
    "output_folder = '/home/alex/Desktop/Data/scraped/apartments'\n",
    "\n",
    "df.to_csv(f'{output_folder}/scraped_161022.csv', index=False)"
   ]
  },
  {
   "cell_type": "code",
   "execution_count": null,
   "id": "2bbcfa39",
   "metadata": {},
   "outputs": [],
   "source": []
  }
 ],
 "metadata": {
  "kernelspec": {
   "display_name": "ds_project2",
   "language": "python",
   "name": "ds_project2"
  },
  "language_info": {
   "codemirror_mode": {
    "name": "ipython",
    "version": 3
   },
   "file_extension": ".py",
   "mimetype": "text/x-python",
   "name": "python",
   "nbconvert_exporter": "python",
   "pygments_lexer": "ipython3",
   "version": "3.8.13"
  }
 },
 "nbformat": 4,
 "nbformat_minor": 5
}
