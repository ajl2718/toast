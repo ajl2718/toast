{
 "cells": [
  {
   "cell_type": "markdown",
   "id": "623813a0",
   "metadata": {},
   "source": [
    "# Australian General Practice location scraper\n",
    "\n",
    "5 October 2021\n",
    "\n",
    "---\n",
    "\n",
    "**Description**\n",
    "\n",
    "It is difficult to find existing datasets for general practice locations in Australia (e.g., from data.gov.au or data.vic.gov.au). Healthdirect appears to be the best official source of health provider locations. \n",
    "\n",
    "This scraper contains some basic code to scrape healthdirect.gov.au to get the names and locations of all General Practice sites in Victoria. It can be modified to obtain all those in any other given state, the whole country or just a subset of postcodes.\n",
    "\n",
    "\n",
    "**Instructions**\n",
    "- Make sure that pandas, requests and lxml are installed\n",
    "- Ensure that the reference postcode data is specified correctly\n",
    "- Run each of the cells in order. "
   ]
  },
  {
   "cell_type": "code",
   "execution_count": 89,
   "id": "4c0e6d31",
   "metadata": {},
   "outputs": [],
   "source": [
    "import requests\n",
    "import pandas as pd\n",
    "from lxml import html\n",
    "from time import sleep\n",
    "\n",
    "import json\n",
    "\n",
    "from requests.adapters import HTTPAdapter\n",
    "from requests.packages.urllib3.util.retry import Retry"
   ]
  },
  {
   "cell_type": "markdown",
   "id": "43d25b84",
   "metadata": {},
   "source": [
    "## Define paths and utility functions\n",
    "\n",
    "- Specify the required data elements from the website\n",
    "- Create utility function to extract data elements from web page"
   ]
  },
  {
   "cell_type": "code",
   "execution_count": 206,
   "id": "d6cb6cf3",
   "metadata": {},
   "outputs": [],
   "source": [
    "# these definesthe elements within the webpage where name and location information is recorded\n",
    "path_name = './/div[@class=\"veyron-hsf-page \"]/a/@href'\n",
    "path_address1 = './/div[@class=\"veyron-hsf-page \"]/a/@data-address'\n",
    "path_lat = './/div[@class=\"veyron-hsf-page \"]/a/@data-lat'\n",
    "path_long = './/div[@class=\"veyron-hsf-page \"]/a/@data-long'"
   ]
  },
  {
   "cell_type": "code",
   "execution_count": 207,
   "id": "65b80742",
   "metadata": {},
   "outputs": [],
   "source": [
    "# for the pages of the individual practices, these are the paths with relevant information\n",
    "path_address2 = './/p[@class=\"hsf-service_details-data-address veyron-hsf-full-address\"]/@data-full-address'\n",
    "path_opening_hours_day = './/div[@class=\"hsf-service_details-data-hours-group\"]/ul/li/span[@class=\"hsf-service_details-data-hours-weekday\"]/text()'\n",
    "path_opening_hours_time = './/div[@class=\"hsf-service_details-data-hours-group\"]/ul/li/span[@class=\"hsf-service_details-data-hours-times\"]/text()'\n",
    "path_fees = './/p[@class=\"hsf-service_details-data-billing\"]/text()'\n",
    "path_details = './/p[@class=\"hsf-service_details-data-description\"]/span/text()'\n",
    "\n",
    "path_javascript = './/script[@type=\"text/javascript\"]/text()'"
   ]
  },
  {
   "cell_type": "code",
   "execution_count": 208,
   "id": "b43ad2ab",
   "metadata": {},
   "outputs": [],
   "source": [
    "# the data elements that we are interested in\n",
    "data_scheme = {'Name': path_name,\n",
    "               'Address': path_address1,\n",
    "               'Latitude': path_lat,\n",
    "               'Longitude': path_long}"
   ]
  },
  {
   "cell_type": "code",
   "execution_count": 209,
   "id": "ad243433",
   "metadata": {},
   "outputs": [],
   "source": [
    "def extract_js(js_text, start_marker='[{\"', end_marker='}],\\n', offset=2):\n",
    "    \"\"\"\n",
    "    Extract the javascript text and convert to dict. This contains lat, long etc\n",
    "    \"\"\"\n",
    "    start_index, end_index = js_text.find(start_marker), js_text.find(end_marker)\n",
    "    output = js_text[start_index:end_index+offset]\n",
    "    return json.loads(output)\n",
    "\n",
    "def get_page_info(url):\n",
    "    \"\"\"\n",
    "    Extract all the info we are interested in for a given URL\n",
    "    \"\"\"\n",
    "    page = requests.get(url)\n",
    "    tree = html.fromstring(page.text)\n",
    "    address = tree.xpath(path_address)\n",
    "    opening_hours_day = tree.xpath(path_opening_hours_day)\n",
    "    opening_hours_time = tree.xpath(path_opening_hours_time)\n",
    "    fees = tree.xpath(path_fees)\n",
    "    js_text = tree.xpath(path_javascript)\n",
    "    js_data = extract_js(js_text[9])\n",
    "    \n",
    "    details = ' '.join(tree.xpath(path_details)).strip()\n",
    "    \n",
    "    latitude = float(js_data[0]['location']['physicalLocation']['geocode']['latitude'])\n",
    "    longitude = float(js_data[0]['location']['physicalLocation']['geocode']['longitude'])\n",
    "    \n",
    "    # create output dataframe\n",
    "    df_temp = pd.DataFrame(data={'url': url, 'address': address, 'fees': ' '.join(fees).strip(), \n",
    "                                 'details': details,\n",
    "                                 'latitude': latitude, 'longitude': longitude})\n",
    "    \n",
    "    return df_temp"
   ]
  },
  {
   "cell_type": "code",
   "execution_count": 210,
   "id": "1bca3b88",
   "metadata": {},
   "outputs": [],
   "source": [
    "def get_locations(text, data_scheme):\n",
    "    \"\"\"\n",
    "    Retrieve location information in web page\n",
    "    \n",
    "    Args\n",
    "    ----\n",
    "    text (str): the scraped data from the webpage containing\n",
    "    required information\n",
    "    data_scheme (dict): specifies paths for each data element\n",
    "    \n",
    "    Returns\n",
    "    pd.DataFrame with the parsed data\n",
    "    \"\"\"\n",
    "    tree = html.fromstring(text)\n",
    "    names = data_scheme.keys()\n",
    "    output_data = dict()\n",
    "    \n",
    "    for name in names:\n",
    "        path = data_scheme[name]\n",
    "        item_data = tree.xpath(path)\n",
    "        output_data[name] = item_data\n",
    "        \n",
    "    return pd.DataFrame(output_data)"
   ]
  },
  {
   "cell_type": "markdown",
   "id": "846f45f2",
   "metadata": {},
   "source": [
    "## Create list of suburb-postcode pairs\n",
    "\n",
    "Using reference postcode data, create the suburb-postcode pairs that we require to scrape location data for. This is specified in the ```folder``` and ```filename``` variables."
   ]
  },
  {
   "cell_type": "code",
   "execution_count": 211,
   "id": "55861d6c",
   "metadata": {},
   "outputs": [],
   "source": [
    "folder = '/home/alex/Desktop/Data/reference_data'\n",
    "filename = f'{folder}/postcodes_scraped_221021.csv'\n",
    "df = pd.read_csv(filename)"
   ]
  },
  {
   "cell_type": "code",
   "execution_count": 212,
   "id": "eb8143e0",
   "metadata": {},
   "outputs": [],
   "source": [
    "# if we are only interested in the VIC postcodes (assuming that that file has a 'state' column)\n",
    "df_vic = df.query('state == \"VIC\"')"
   ]
  },
  {
   "cell_type": "code",
   "execution_count": 213,
   "id": "def4c574",
   "metadata": {},
   "outputs": [
    {
     "name": "stderr",
     "output_type": "stream",
     "text": [
      "/tmp/ipykernel_149300/2632753886.py:1: SettingWithCopyWarning: \n",
      "A value is trying to be set on a copy of a slice from a DataFrame.\n",
      "Try using .loc[row_indexer,col_indexer] = value instead\n",
      "\n",
      "See the caveats in the documentation: https://pandas.pydata.org/pandas-docs/stable/user_guide/indexing.html#returning-a-view-versus-a-copy\n",
      "  df_vic['suburb_formatted'] = df_vic['suburb'].apply(lambda s: s.replace(' ', '_'))\n"
     ]
    }
   ],
   "source": [
    "df_vic['suburb_formatted'] = df_vic['suburb'].apply(lambda s: s.replace(' ', '_'))"
   ]
  },
  {
   "cell_type": "code",
   "execution_count": 214,
   "id": "db39f697",
   "metadata": {},
   "outputs": [
    {
     "name": "stderr",
     "output_type": "stream",
     "text": [
      "/tmp/ipykernel_149300/2652691680.py:1: SettingWithCopyWarning: \n",
      "A value is trying to be set on a copy of a slice from a DataFrame.\n",
      "Try using .loc[row_indexer,col_indexer] = value instead\n",
      "\n",
      "See the caveats in the documentation: https://pandas.pydata.org/pandas-docs/stable/user_guide/indexing.html#returning-a-view-versus-a-copy\n",
      "  df_vic['suburb_postcode'] = df_vic['suburb_formatted'].str.lower() + '-' + df_vic['postcode'].astype(str)\n"
     ]
    }
   ],
   "source": [
    "df_vic['suburb_postcode'] = df_vic['suburb_formatted'].str.lower() + '-' + df_vic['postcode'].astype(str)"
   ]
  },
  {
   "cell_type": "code",
   "execution_count": 215,
   "id": "120cd585",
   "metadata": {},
   "outputs": [],
   "source": [
    "suburb_postcodes = list(df_vic['suburb_postcode'].values)\n",
    "\n",
    "pages = list(range(1,20)) # how many pages do we scrape for each of the suburb-postcode pairs?"
   ]
  },
  {
   "cell_type": "markdown",
   "id": "6a21e074",
   "metadata": {},
   "source": [
    "## URL list to scrape\n",
    "\n",
    "Create the list of URLs to scrape based on the suburb-postcode pairs that are required"
   ]
  },
  {
   "cell_type": "code",
   "execution_count": 233,
   "id": "8ab8e70c",
   "metadata": {},
   "outputs": [],
   "source": [
    "# the basic url\n",
    "url_base = 'https://www.healthdirect.gov.au/australian-health-services/results/'\n",
    "url_base2 = 'https://www.healthdirect.gov.au'\n",
    "url_middle = '/tihcs-aht-11222/gp-general-practice?pageIndex='\n",
    "url_end = '&tab=SITE_VISIT'"
   ]
  },
  {
   "cell_type": "code",
   "execution_count": 217,
   "id": "5efddfd8",
   "metadata": {},
   "outputs": [],
   "source": [
    "# create the list of URLs to scrape\n",
    "urls = [f'{url_base}{suburb_postcode}{url_middle}{n}{url_end}' \n",
    "        for suburb_postcode in suburb_postcodes \n",
    "        for n in range(1, 5)]"
   ]
  },
  {
   "cell_type": "code",
   "execution_count": 218,
   "id": "6560c66d",
   "metadata": {},
   "outputs": [
    {
     "data": {
      "text/plain": [
       "(3183, 12732)"
      ]
     },
     "execution_count": 218,
     "metadata": {},
     "output_type": "execute_result"
    }
   ],
   "source": [
    "len(suburb_postcodes), len(urls)"
   ]
  },
  {
   "cell_type": "markdown",
   "id": "2d92ce35",
   "metadata": {},
   "source": [
    "## Scrape the data\n",
    "\n",
    "For each of the URLs in the list ```urls``` request the data, parse it and append to list of dataframes ```df_list```."
   ]
  },
  {
   "cell_type": "code",
   "execution_count": 261,
   "id": "231c1290",
   "metadata": {},
   "outputs": [
    {
     "name": "stdout",
     "output_type": "stream",
     "text": [
      "There are 12732 URLs.\n"
     ]
    }
   ],
   "source": [
    "print(f'There are {len(urls)} URLs.')"
   ]
  },
  {
   "cell_type": "code",
   "execution_count": 262,
   "id": "59a15f37",
   "metadata": {
    "scrolled": true
   },
   "outputs": [
    {
     "name": "stderr",
     "output_type": "stream",
     "text": [
      "/tmp/ipykernel_149300/1279621274.py:6: DeprecationWarning: Using 'method_whitelist' with Retry is deprecated and will be removed in v2.0. Use 'allowed_methods' instead\n",
      "  retry_strategy = Retry(\n"
     ]
    },
    {
     "name": "stdout",
     "output_type": "stream",
     "text": [
      "0: Scraping URL: https://www.healthdirect.gov.au/australian-health-services/results/abbeyard-3737/tihcs-aht-11222/gp-general-practice?pageIndex=1&tab=SITE_VISIT\n",
      "status code: 200\n",
      "1: Scraping URL: https://www.healthdirect.gov.au/australian-health-services/results/abbeyard-3737/tihcs-aht-11222/gp-general-practice?pageIndex=2&tab=SITE_VISIT\n",
      "status code: 200\n",
      "2: Scraping URL: https://www.healthdirect.gov.au/australian-health-services/results/abbeyard-3737/tihcs-aht-11222/gp-general-practice?pageIndex=3&tab=SITE_VISIT\n",
      "status code: 200\n",
      "3: Scraping URL: https://www.healthdirect.gov.au/australian-health-services/results/abbeyard-3737/tihcs-aht-11222/gp-general-practice?pageIndex=4&tab=SITE_VISIT\n",
      "status code: 200\n",
      "4: Scraping URL: https://www.healthdirect.gov.au/australian-health-services/results/abbotsford-3067/tihcs-aht-11222/gp-general-practice?pageIndex=1&tab=SITE_VISIT\n",
      "status code: 200\n",
      "5: Scraping URL: https://www.healthdirect.gov.au/australian-health-services/results/abbotsford-3067/tihcs-aht-11222/gp-general-practice?pageIndex=2&tab=SITE_VISIT\n",
      "status code: 200\n",
      "6: Scraping URL: https://www.healthdirect.gov.au/australian-health-services/results/abbotsford-3067/tihcs-aht-11222/gp-general-practice?pageIndex=3&tab=SITE_VISIT\n",
      "status code: 200\n",
      "7: Scraping URL: https://www.healthdirect.gov.au/australian-health-services/results/abbotsford-3067/tihcs-aht-11222/gp-general-practice?pageIndex=4&tab=SITE_VISIT\n",
      "status code: 200\n",
      "8: Scraping URL: https://www.healthdirect.gov.au/australian-health-services/results/abeckett_street-8006/tihcs-aht-11222/gp-general-practice?pageIndex=1&tab=SITE_VISIT\n",
      "status code: 404\n",
      "Unsuccessful request\n",
      "9: Scraping URL: https://www.healthdirect.gov.au/australian-health-services/results/abeckett_street-8006/tihcs-aht-11222/gp-general-practice?pageIndex=2&tab=SITE_VISIT\n",
      "status code: 404\n",
      "Unsuccessful request\n",
      "10: Scraping URL: https://www.healthdirect.gov.au/australian-health-services/results/abeckett_street-8006/tihcs-aht-11222/gp-general-practice?pageIndex=3&tab=SITE_VISIT\n",
      "status code: 404\n",
      "Unsuccessful request\n",
      "11: Scraping URL: https://www.healthdirect.gov.au/australian-health-services/results/abeckett_street-8006/tihcs-aht-11222/gp-general-practice?pageIndex=4&tab=SITE_VISIT\n",
      "status code: 404\n",
      "Unsuccessful request\n",
      "12: Scraping URL: https://www.healthdirect.gov.au/australian-health-services/results/aberfeldie-3040/tihcs-aht-11222/gp-general-practice?pageIndex=1&tab=SITE_VISIT\n",
      "status code: 200\n",
      "13: Scraping URL: https://www.healthdirect.gov.au/australian-health-services/results/aberfeldie-3040/tihcs-aht-11222/gp-general-practice?pageIndex=2&tab=SITE_VISIT\n",
      "status code: 200\n",
      "14: Scraping URL: https://www.healthdirect.gov.au/australian-health-services/results/aberfeldie-3040/tihcs-aht-11222/gp-general-practice?pageIndex=3&tab=SITE_VISIT\n",
      "status code: 200\n",
      "15: Scraping URL: https://www.healthdirect.gov.au/australian-health-services/results/aberfeldie-3040/tihcs-aht-11222/gp-general-practice?pageIndex=4&tab=SITE_VISIT\n",
      "status code: 200\n",
      "16: Scraping URL: https://www.healthdirect.gov.au/australian-health-services/results/aberfeldy-3825/tihcs-aht-11222/gp-general-practice?pageIndex=1&tab=SITE_VISIT\n",
      "status code: 200\n",
      "17: Scraping URL: https://www.healthdirect.gov.au/australian-health-services/results/aberfeldy-3825/tihcs-aht-11222/gp-general-practice?pageIndex=2&tab=SITE_VISIT\n",
      "status code: 200\n",
      "18: Scraping URL: https://www.healthdirect.gov.au/australian-health-services/results/aberfeldy-3825/tihcs-aht-11222/gp-general-practice?pageIndex=3&tab=SITE_VISIT\n",
      "status code: 200\n",
      "19: Scraping URL: https://www.healthdirect.gov.au/australian-health-services/results/aberfeldy-3825/tihcs-aht-11222/gp-general-practice?pageIndex=4&tab=SITE_VISIT\n",
      "status code: 200\n",
      "20: Scraping URL: https://www.healthdirect.gov.au/australian-health-services/results/acheron-3714/tihcs-aht-11222/gp-general-practice?pageIndex=1&tab=SITE_VISIT\n",
      "status code: 200\n",
      "21: Scraping URL: https://www.healthdirect.gov.au/australian-health-services/results/acheron-3714/tihcs-aht-11222/gp-general-practice?pageIndex=2&tab=SITE_VISIT\n",
      "status code: 200\n",
      "22: Scraping URL: https://www.healthdirect.gov.au/australian-health-services/results/acheron-3714/tihcs-aht-11222/gp-general-practice?pageIndex=3&tab=SITE_VISIT\n",
      "status code: 200\n",
      "23: Scraping URL: https://www.healthdirect.gov.au/australian-health-services/results/acheron-3714/tihcs-aht-11222/gp-general-practice?pageIndex=4&tab=SITE_VISIT\n",
      "status code: 200\n",
      "24: Scraping URL: https://www.healthdirect.gov.au/australian-health-services/results/ada-3833/tihcs-aht-11222/gp-general-practice?pageIndex=1&tab=SITE_VISIT\n",
      "status code: 200\n",
      "25: Scraping URL: https://www.healthdirect.gov.au/australian-health-services/results/ada-3833/tihcs-aht-11222/gp-general-practice?pageIndex=2&tab=SITE_VISIT\n",
      "status code: 200\n",
      "26: Scraping URL: https://www.healthdirect.gov.au/australian-health-services/results/ada-3833/tihcs-aht-11222/gp-general-practice?pageIndex=3&tab=SITE_VISIT\n",
      "status code: 200\n",
      "27: Scraping URL: https://www.healthdirect.gov.au/australian-health-services/results/ada-3833/tihcs-aht-11222/gp-general-practice?pageIndex=4&tab=SITE_VISIT\n",
      "status code: 200\n",
      "28: Scraping URL: https://www.healthdirect.gov.au/australian-health-services/results/adams_estate-3984/tihcs-aht-11222/gp-general-practice?pageIndex=1&tab=SITE_VISIT\n",
      "status code: 200\n",
      "29: Scraping URL: https://www.healthdirect.gov.au/australian-health-services/results/adams_estate-3984/tihcs-aht-11222/gp-general-practice?pageIndex=2&tab=SITE_VISIT\n",
      "status code: 200\n",
      "30: Scraping URL: https://www.healthdirect.gov.au/australian-health-services/results/adams_estate-3984/tihcs-aht-11222/gp-general-practice?pageIndex=3&tab=SITE_VISIT\n",
      "status code: 200\n",
      "31: Scraping URL: https://www.healthdirect.gov.au/australian-health-services/results/adams_estate-3984/tihcs-aht-11222/gp-general-practice?pageIndex=4&tab=SITE_VISIT\n",
      "status code: 200\n",
      "32: Scraping URL: https://www.healthdirect.gov.au/australian-health-services/results/addington-3352/tihcs-aht-11222/gp-general-practice?pageIndex=1&tab=SITE_VISIT\n",
      "status code: 200\n",
      "33: Scraping URL: https://www.healthdirect.gov.au/australian-health-services/results/addington-3352/tihcs-aht-11222/gp-general-practice?pageIndex=2&tab=SITE_VISIT\n",
      "status code: 200\n",
      "34: Scraping URL: https://www.healthdirect.gov.au/australian-health-services/results/addington-3352/tihcs-aht-11222/gp-general-practice?pageIndex=3&tab=SITE_VISIT\n",
      "status code: 200\n",
      "35: Scraping URL: https://www.healthdirect.gov.au/australian-health-services/results/addington-3352/tihcs-aht-11222/gp-general-practice?pageIndex=4&tab=SITE_VISIT\n",
      "status code: 200\n",
      "36: Scraping URL: https://www.healthdirect.gov.au/australian-health-services/results/adelaide_lead-3465/tihcs-aht-11222/gp-general-practice?pageIndex=1&tab=SITE_VISIT\n",
      "status code: 200\n",
      "37: Scraping URL: https://www.healthdirect.gov.au/australian-health-services/results/adelaide_lead-3465/tihcs-aht-11222/gp-general-practice?pageIndex=2&tab=SITE_VISIT\n",
      "status code: 200\n",
      "38: Scraping URL: https://www.healthdirect.gov.au/australian-health-services/results/adelaide_lead-3465/tihcs-aht-11222/gp-general-practice?pageIndex=3&tab=SITE_VISIT\n",
      "status code: 200\n",
      "39: Scraping URL: https://www.healthdirect.gov.au/australian-health-services/results/adelaide_lead-3465/tihcs-aht-11222/gp-general-practice?pageIndex=4&tab=SITE_VISIT\n",
      "status code: 200\n",
      "40: Scraping URL: https://www.healthdirect.gov.au/australian-health-services/results/agnes-3962/tihcs-aht-11222/gp-general-practice?pageIndex=1&tab=SITE_VISIT\n",
      "status code: 200\n",
      "41: Scraping URL: https://www.healthdirect.gov.au/australian-health-services/results/agnes-3962/tihcs-aht-11222/gp-general-practice?pageIndex=2&tab=SITE_VISIT\n",
      "status code: 200\n",
      "42: Scraping URL: https://www.healthdirect.gov.au/australian-health-services/results/agnes-3962/tihcs-aht-11222/gp-general-practice?pageIndex=3&tab=SITE_VISIT\n",
      "status code: 200\n",
      "43: Scraping URL: https://www.healthdirect.gov.au/australian-health-services/results/agnes-3962/tihcs-aht-11222/gp-general-practice?pageIndex=4&tab=SITE_VISIT\n",
      "status code: 200\n",
      "44: Scraping URL: https://www.healthdirect.gov.au/australian-health-services/results/aintree-3336/tihcs-aht-11222/gp-general-practice?pageIndex=1&tab=SITE_VISIT\n",
      "status code: 200\n",
      "45: Scraping URL: https://www.healthdirect.gov.au/australian-health-services/results/aintree-3336/tihcs-aht-11222/gp-general-practice?pageIndex=2&tab=SITE_VISIT\n"
     ]
    },
    {
     "name": "stdout",
     "output_type": "stream",
     "text": [
      "status code: 200\n",
      "46: Scraping URL: https://www.healthdirect.gov.au/australian-health-services/results/aintree-3336/tihcs-aht-11222/gp-general-practice?pageIndex=3&tab=SITE_VISIT\n",
      "status code: 200\n",
      "47: Scraping URL: https://www.healthdirect.gov.au/australian-health-services/results/aintree-3336/tihcs-aht-11222/gp-general-practice?pageIndex=4&tab=SITE_VISIT\n",
      "status code: 200\n",
      "48: Scraping URL: https://www.healthdirect.gov.au/australian-health-services/results/aire_valley-3237/tihcs-aht-11222/gp-general-practice?pageIndex=1&tab=SITE_VISIT\n",
      "status code: 200\n",
      "49: Scraping URL: https://www.healthdirect.gov.au/australian-health-services/results/aire_valley-3237/tihcs-aht-11222/gp-general-practice?pageIndex=2&tab=SITE_VISIT\n",
      "status code: 200\n",
      "50: Scraping URL: https://www.healthdirect.gov.au/australian-health-services/results/aire_valley-3237/tihcs-aht-11222/gp-general-practice?pageIndex=3&tab=SITE_VISIT\n",
      "status code: 200\n",
      "51: Scraping URL: https://www.healthdirect.gov.au/australian-health-services/results/aire_valley-3237/tihcs-aht-11222/gp-general-practice?pageIndex=4&tab=SITE_VISIT\n",
      "status code: 200\n",
      "52: Scraping URL: https://www.healthdirect.gov.au/australian-health-services/results/aireys_inlet-3231/tihcs-aht-11222/gp-general-practice?pageIndex=1&tab=SITE_VISIT\n",
      "status code: 200\n",
      "53: Scraping URL: https://www.healthdirect.gov.au/australian-health-services/results/aireys_inlet-3231/tihcs-aht-11222/gp-general-practice?pageIndex=2&tab=SITE_VISIT\n",
      "status code: 200\n",
      "54: Scraping URL: https://www.healthdirect.gov.au/australian-health-services/results/aireys_inlet-3231/tihcs-aht-11222/gp-general-practice?pageIndex=3&tab=SITE_VISIT\n",
      "status code: 200\n",
      "55: Scraping URL: https://www.healthdirect.gov.au/australian-health-services/results/aireys_inlet-3231/tihcs-aht-11222/gp-general-practice?pageIndex=4&tab=SITE_VISIT\n",
      "status code: 200\n",
      "56: Scraping URL: https://www.healthdirect.gov.au/australian-health-services/results/airly-3851/tihcs-aht-11222/gp-general-practice?pageIndex=1&tab=SITE_VISIT\n",
      "status code: 200\n",
      "57: Scraping URL: https://www.healthdirect.gov.au/australian-health-services/results/airly-3851/tihcs-aht-11222/gp-general-practice?pageIndex=2&tab=SITE_VISIT\n",
      "status code: 200\n",
      "58: Scraping URL: https://www.healthdirect.gov.au/australian-health-services/results/airly-3851/tihcs-aht-11222/gp-general-practice?pageIndex=3&tab=SITE_VISIT\n",
      "status code: 200\n",
      "59: Scraping URL: https://www.healthdirect.gov.au/australian-health-services/results/airly-3851/tihcs-aht-11222/gp-general-practice?pageIndex=4&tab=SITE_VISIT\n",
      "status code: 200\n",
      "60: Scraping URL: https://www.healthdirect.gov.au/australian-health-services/results/airport_west-3042/tihcs-aht-11222/gp-general-practice?pageIndex=1&tab=SITE_VISIT\n",
      "status code: 200\n",
      "61: Scraping URL: https://www.healthdirect.gov.au/australian-health-services/results/airport_west-3042/tihcs-aht-11222/gp-general-practice?pageIndex=2&tab=SITE_VISIT\n",
      "status code: 200\n",
      "62: Scraping URL: https://www.healthdirect.gov.au/australian-health-services/results/airport_west-3042/tihcs-aht-11222/gp-general-practice?pageIndex=3&tab=SITE_VISIT\n",
      "status code: 200\n",
      "63: Scraping URL: https://www.healthdirect.gov.au/australian-health-services/results/airport_west-3042/tihcs-aht-11222/gp-general-practice?pageIndex=4&tab=SITE_VISIT\n",
      "status code: 200\n",
      "64: Scraping URL: https://www.healthdirect.gov.au/australian-health-services/results/albacutya-3424/tihcs-aht-11222/gp-general-practice?pageIndex=1&tab=SITE_VISIT\n",
      "status code: 200\n",
      "65: Scraping URL: https://www.healthdirect.gov.au/australian-health-services/results/albacutya-3424/tihcs-aht-11222/gp-general-practice?pageIndex=2&tab=SITE_VISIT\n",
      "status code: 200\n",
      "66: Scraping URL: https://www.healthdirect.gov.au/australian-health-services/results/albacutya-3424/tihcs-aht-11222/gp-general-practice?pageIndex=3&tab=SITE_VISIT\n",
      "status code: 200\n",
      "67: Scraping URL: https://www.healthdirect.gov.au/australian-health-services/results/albacutya-3424/tihcs-aht-11222/gp-general-practice?pageIndex=4&tab=SITE_VISIT\n",
      "status code: 200\n",
      "68: Scraping URL: https://www.healthdirect.gov.au/australian-health-services/results/albanvale-3021/tihcs-aht-11222/gp-general-practice?pageIndex=1&tab=SITE_VISIT\n",
      "status code: 200\n",
      "69: Scraping URL: https://www.healthdirect.gov.au/australian-health-services/results/albanvale-3021/tihcs-aht-11222/gp-general-practice?pageIndex=2&tab=SITE_VISIT\n",
      "status code: 200\n",
      "70: Scraping URL: https://www.healthdirect.gov.au/australian-health-services/results/albanvale-3021/tihcs-aht-11222/gp-general-practice?pageIndex=3&tab=SITE_VISIT\n",
      "status code: 200\n",
      "71: Scraping URL: https://www.healthdirect.gov.au/australian-health-services/results/albanvale-3021/tihcs-aht-11222/gp-general-practice?pageIndex=4&tab=SITE_VISIT\n",
      "status code: 200\n",
      "72: Scraping URL: https://www.healthdirect.gov.au/australian-health-services/results/albert_park-3206/tihcs-aht-11222/gp-general-practice?pageIndex=1&tab=SITE_VISIT\n",
      "status code: 200\n",
      "73: Scraping URL: https://www.healthdirect.gov.au/australian-health-services/results/albert_park-3206/tihcs-aht-11222/gp-general-practice?pageIndex=2&tab=SITE_VISIT\n",
      "status code: 200\n",
      "74: Scraping URL: https://www.healthdirect.gov.au/australian-health-services/results/albert_park-3206/tihcs-aht-11222/gp-general-practice?pageIndex=3&tab=SITE_VISIT\n",
      "status code: 200\n",
      "75: Scraping URL: https://www.healthdirect.gov.au/australian-health-services/results/albert_park-3206/tihcs-aht-11222/gp-general-practice?pageIndex=4&tab=SITE_VISIT\n",
      "status code: 200\n",
      "76: Scraping URL: https://www.healthdirect.gov.au/australian-health-services/results/alberton-3971/tihcs-aht-11222/gp-general-practice?pageIndex=1&tab=SITE_VISIT\n",
      "status code: 200\n",
      "77: Scraping URL: https://www.healthdirect.gov.au/australian-health-services/results/alberton-3971/tihcs-aht-11222/gp-general-practice?pageIndex=2&tab=SITE_VISIT\n",
      "status code: 200\n",
      "78: Scraping URL: https://www.healthdirect.gov.au/australian-health-services/results/alberton-3971/tihcs-aht-11222/gp-general-practice?pageIndex=3&tab=SITE_VISIT\n",
      "status code: 200\n",
      "79: Scraping URL: https://www.healthdirect.gov.au/australian-health-services/results/alberton-3971/tihcs-aht-11222/gp-general-practice?pageIndex=4&tab=SITE_VISIT\n",
      "status code: 200\n",
      "80: Scraping URL: https://www.healthdirect.gov.au/australian-health-services/results/alberton_west-3971/tihcs-aht-11222/gp-general-practice?pageIndex=1&tab=SITE_VISIT\n",
      "status code: 200\n",
      "81: Scraping URL: https://www.healthdirect.gov.au/australian-health-services/results/alberton_west-3971/tihcs-aht-11222/gp-general-practice?pageIndex=2&tab=SITE_VISIT\n",
      "status code: 200\n",
      "82: Scraping URL: https://www.healthdirect.gov.au/australian-health-services/results/alberton_west-3971/tihcs-aht-11222/gp-general-practice?pageIndex=3&tab=SITE_VISIT\n",
      "status code: 200\n",
      "83: Scraping URL: https://www.healthdirect.gov.au/australian-health-services/results/alberton_west-3971/tihcs-aht-11222/gp-general-practice?pageIndex=4&tab=SITE_VISIT\n",
      "status code: 200\n",
      "84: Scraping URL: https://www.healthdirect.gov.au/australian-health-services/results/mont_albert-3127/tihcs-aht-11222/gp-general-practice?pageIndex=1&tab=SITE_VISIT\n",
      "status code: 200\n",
      "85: Scraping URL: https://www.healthdirect.gov.au/australian-health-services/results/mont_albert-3127/tihcs-aht-11222/gp-general-practice?pageIndex=2&tab=SITE_VISIT\n",
      "status code: 200\n",
      "86: Scraping URL: https://www.healthdirect.gov.au/australian-health-services/results/mont_albert-3127/tihcs-aht-11222/gp-general-practice?pageIndex=3&tab=SITE_VISIT\n",
      "status code: 200\n",
      "87: Scraping URL: https://www.healthdirect.gov.au/australian-health-services/results/mont_albert-3127/tihcs-aht-11222/gp-general-practice?pageIndex=4&tab=SITE_VISIT\n",
      "status code: 200\n",
      "88: Scraping URL: https://www.healthdirect.gov.au/australian-health-services/results/mont_albert_north-3129/tihcs-aht-11222/gp-general-practice?pageIndex=1&tab=SITE_VISIT\n",
      "status code: 200\n",
      "89: Scraping URL: https://www.healthdirect.gov.au/australian-health-services/results/mont_albert_north-3129/tihcs-aht-11222/gp-general-practice?pageIndex=2&tab=SITE_VISIT\n",
      "status code: 200\n",
      "90: Scraping URL: https://www.healthdirect.gov.au/australian-health-services/results/mont_albert_north-3129/tihcs-aht-11222/gp-general-practice?pageIndex=3&tab=SITE_VISIT\n",
      "status code: 200\n",
      "91: Scraping URL: https://www.healthdirect.gov.au/australian-health-services/results/mont_albert_north-3129/tihcs-aht-11222/gp-general-practice?pageIndex=4&tab=SITE_VISIT\n"
     ]
    },
    {
     "name": "stdout",
     "output_type": "stream",
     "text": [
      "status code: 200\n",
      "92: Scraping URL: https://www.healthdirect.gov.au/australian-health-services/results/port_albert-3971/tihcs-aht-11222/gp-general-practice?pageIndex=1&tab=SITE_VISIT\n",
      "status code: 200\n",
      "93: Scraping URL: https://www.healthdirect.gov.au/australian-health-services/results/port_albert-3971/tihcs-aht-11222/gp-general-practice?pageIndex=2&tab=SITE_VISIT\n",
      "status code: 200\n",
      "94: Scraping URL: https://www.healthdirect.gov.au/australian-health-services/results/port_albert-3971/tihcs-aht-11222/gp-general-practice?pageIndex=3&tab=SITE_VISIT\n",
      "status code: 200\n",
      "95: Scraping URL: https://www.healthdirect.gov.au/australian-health-services/results/port_albert-3971/tihcs-aht-11222/gp-general-practice?pageIndex=4&tab=SITE_VISIT\n",
      "status code: 200\n",
      "96: Scraping URL: https://www.healthdirect.gov.au/australian-health-services/results/albion-3020/tihcs-aht-11222/gp-general-practice?pageIndex=1&tab=SITE_VISIT\n",
      "status code: 200\n",
      "97: Scraping URL: https://www.healthdirect.gov.au/australian-health-services/results/albion-3020/tihcs-aht-11222/gp-general-practice?pageIndex=2&tab=SITE_VISIT\n",
      "status code: 200\n",
      "98: Scraping URL: https://www.healthdirect.gov.au/australian-health-services/results/albion-3020/tihcs-aht-11222/gp-general-practice?pageIndex=3&tab=SITE_VISIT\n",
      "status code: 200\n",
      "99: Scraping URL: https://www.healthdirect.gov.au/australian-health-services/results/albion-3020/tihcs-aht-11222/gp-general-practice?pageIndex=4&tab=SITE_VISIT\n",
      "status code: 200\n"
     ]
    }
   ],
   "source": [
    "df_list = []\n",
    "urls_bad = []\n",
    "\n",
    "# in case the request returns an error, try again\n",
    "# this makes the scraper more robust\n",
    "retry_strategy = Retry(\n",
    "    total=3,\n",
    "    status_forcelist=[429, 500, 502, 503, 504],\n",
    "    method_whitelist=[\"GET\"]\n",
    ")\n",
    "\n",
    "adapter = HTTPAdapter(max_retries=retry_strategy)\n",
    "http = requests.Session()\n",
    "http.mount(\"https://\", adapter)\n",
    "http.mount(\"http://\", adapter)\n",
    "\n",
    "# loop through URLs scrape each one and parse data\n",
    "for n, url in enumerate(urls[:100]):\n",
    "    print(f'{n}: Scraping URL: {url}')\n",
    "    page = http.get(url)\n",
    "    print(f'status code: {page.status_code}')\n",
    "    if page.status_code == 200:\n",
    "        output_data = get_locations(page.text, data_scheme)\n",
    "    else:\n",
    "        print('Unsuccessful request')\n",
    "        urls_bad.append(url)\n",
    "    df_list.append(pd.DataFrame(output_data))"
   ]
  },
  {
   "cell_type": "markdown",
   "id": "a6eb2c5d",
   "metadata": {},
   "source": [
    "## Concatenate all the datasets for each suburb-postcode"
   ]
  },
  {
   "cell_type": "code",
   "execution_count": 263,
   "id": "6ce26be7",
   "metadata": {},
   "outputs": [],
   "source": [
    "df_final = pd.concat(df_list).drop_duplicates()"
   ]
  },
  {
   "cell_type": "markdown",
   "id": "10620ab1",
   "metadata": {},
   "source": [
    "## Tidy up the data\n",
    "\n",
    "- Remove unneccessary white spaces\n",
    "- drop duplicates"
   ]
  },
  {
   "cell_type": "code",
   "execution_count": 264,
   "id": "84e104f8",
   "metadata": {},
   "outputs": [],
   "source": [
    "for column in df_final.columns:\n",
    "    df_final[column] = df_final[column].str.strip()"
   ]
  },
  {
   "cell_type": "code",
   "execution_count": 266,
   "id": "cab08a60",
   "metadata": {},
   "outputs": [],
   "source": [
    "output_folder = '/home/alex/Desktop/Data/scraped/gp_locations'\n",
    "\n",
    "df_final = df_final.drop_duplicates().reset_index().iloc[:, 1:]\n",
    "df_final.to_csv(f'{output_folder}/gp_scraped_020922_partial.csv')"
   ]
  },
  {
   "cell_type": "markdown",
   "id": "9c07eb97",
   "metadata": {},
   "source": [
    "## If scraping in batches: Collate datasets\n",
    "\n",
    "Since we have to scrape in batches (to avoid being kicked off by the website), we collate all the exported datasets at the end."
   ]
  },
  {
   "cell_type": "code",
   "execution_count": 91,
   "id": "c70aa08e",
   "metadata": {},
   "outputs": [],
   "source": [
    "filenames = ['gp_scraped_191121.csv', 'gp_scraped_201121_new1.csv', 'gp_scraped_201121_new2.csv', \n",
    "             'gp_scraped_201121_new3.csv', 'gp_scraped_201121_new4.csv', 'gp_scraped_201121_new5.csv',\n",
    "            'gp_scraped_201121.csv', 'gp_scraped_201121n.csv']"
   ]
  },
  {
   "cell_type": "code",
   "execution_count": 92,
   "id": "ce956fbf",
   "metadata": {},
   "outputs": [],
   "source": [
    "source_folder = '/Users/alexanderjameslee/Desktop/Data/locations/'"
   ]
  },
  {
   "cell_type": "code",
   "execution_count": 94,
   "id": "a828da77",
   "metadata": {},
   "outputs": [],
   "source": [
    "dfs = []\n",
    "\n",
    "for filename in filenames:\n",
    "    df_partial = pd.read_csv(f'{source_folder}/{filename}')\n",
    "    dfs.append(df_partial)"
   ]
  },
  {
   "cell_type": "code",
   "execution_count": 100,
   "id": "c0f490ac",
   "metadata": {},
   "outputs": [],
   "source": [
    "df_all = pd.concat(dfs).drop_duplicates()"
   ]
  },
  {
   "cell_type": "code",
   "execution_count": 115,
   "id": "439cd85f",
   "metadata": {},
   "outputs": [],
   "source": [
    "df_all['Title'] = df_all['Name'].apply(lambda l: l.split('/')[3].replace('-', ' '))"
   ]
  },
  {
   "cell_type": "code",
   "execution_count": 116,
   "id": "6ad91933",
   "metadata": {},
   "outputs": [],
   "source": [
    "df_all.reset_index()[['Name', 'Title', 'Address', \n",
    "                      'Latitude', 'Longitude']].to_csv(f'{source_folder}/gp_clinics_scraped_all_201121.csv',\n",
    "                                                      index=False)"
   ]
  },
  {
   "cell_type": "markdown",
   "id": "39c63f24",
   "metadata": {},
   "source": [
    "## Additional info from each of the practices\n",
    "\n",
    "- Fees\n",
    "- Opening hours\n",
    "- Other details"
   ]
  },
  {
   "cell_type": "code",
   "execution_count": 267,
   "id": "ea576f3a",
   "metadata": {},
   "outputs": [
    {
     "name": "stdout",
     "output_type": "stream",
     "text": [
      "\n",
      "Retrieving detailed info for /australian-health-services/343d215f-9e76-4abb-9067-4191c8ed1e95/mount-buller-medical-centre/services/mount-buller-3723-summit#b43bf448-d56f-4ff8-b203-351d3c415bc3\n",
      "\n",
      "Retrieving detailed info for /australian-health-services/23011106/mount-hotham-medical-centre/services/hotham-heights-3741-great-alpine#9e313dde-c07f-1c57-fb43-b7eb74e18adb\n",
      "\n",
      "Retrieving detailed info for /australian-health-services/20037189/bright-medical-centre/services/bright-3741-gavan#eefec9b4-f234-9b80-aecf-afb04194c670\n",
      "\n",
      "Retrieving detailed info for /australian-health-services/20046060/mount-beauty-medical-centre/services/mount-beauty-3699-tawonga#2fe34e36-92fc-ed14-53de-c9c6efad965e\n",
      "\n",
      "Retrieving detailed info for /australian-health-services/20045528/falls-creek-medical-centre/services/falls-creek-3699-bogong-high-plains#f0077b15-58a2-f0f0-c1e5-63bef7f0cb6c\n",
      "\n",
      "Retrieving detailed info for /australian-health-services/20040902/ysas-abbotsford/services/abbotsford-3067-johnston#1e734316-53b6-25db-277f-d90be457dca3\n",
      "\n",
      "Retrieving detailed info for /australian-health-services/23024367/yarra-medical-abbotsford/services/abbotsford-3067-victoria#0c4b026e-a933-5df3-1fdb-9ab88eb10f4c\n",
      "\n",
      "Retrieving detailed info for /australian-health-services/23019754/equinox-gender-diverse-health-centre/services/abbotsford-3067-hoddle#3551ed2f-d8ee-5beb-af24-e95df55a0b5e\n",
      "\n",
      "Retrieving detailed info for /australian-health-services/20045350/richmond-general-medical-centre/services/richmond-3121-victoria#5ca7bb9d-97e6-b305-9828-6c469dc3a8a0\n",
      "\n",
      "Retrieving detailed info for /australian-health-services/20045960/elizabeth-st-family-care/services/richmond-3121-elizabeth#50d2903e-3662-e093-c0c8-7637d1bbe212\n",
      "\n",
      "Retrieving detailed info for /australian-health-services/20034334/fawkner-street-clinic/services/essendon-3040-fawkner#b71ad73c-1a8b-34c9-8c54-22353de7d568\n",
      "\n",
      "Retrieving detailed info for /australian-health-services/23026174/q1-medical-highpoint-maribyrnong/services/maribyrnong-3032-rosamond#6b379d79-3519-cd3c-2059-e2e7df828546\n",
      "\n",
      "Retrieving detailed info for /australian-health-services/20026364/ultimate-health-care/services/maribyrnong-3032-rosamond#084c68e8-cfc7-9bb5-e2b8-bfeab11be3f5\n",
      "\n",
      "Retrieving detailed info for /australian-health-services/20031778/leake-street-clinic/services/essendon-3040-leake#36304be8-7288-7a54-8f49-71be57bfc099\n",
      "\n",
      "Retrieving detailed info for /australian-health-services/20034268/guardian-medical-highpoint/services/maribyrnong-3032-rosamond#a4a0e61e-8b97-4267-3bab-ccd2d9134e32\n",
      "\n",
      "Retrieving detailed info for /australian-health-services/20025311/woods-point-community-health-centre/services/woods-point-3723-coster#af69077e-0a41-6705-d639-84f890aa1b82\n",
      "\n",
      "Retrieving detailed info for /australian-health-services/20032853/heyfield-medical-centre/services/heyfield-3858-tyson#98d3cd5c-47a8-a089-d14e-761da66dd224\n",
      "\n",
      "Retrieving detailed info for /australian-health-services/20029481/neerim-south-medical-centre/services/neerim-south-3831-main#b06f4e53-9615-91ea-7f57-9842affd048b\n",
      "\n",
      "Retrieving detailed info for /australian-health-services/20047533/tanjil-place-medical/services/moe-3825-albert#a427eaec-7a4e-cce2-5e05-49cfff0f6ac4\n",
      "\n",
      "Retrieving detailed info for /australian-health-services/20034341/central-gippsland-family-practice/services/moe-3825-george#082a0745-5505-f606-54fd-67a7c82066d7\n",
      "\n",
      "Retrieving detailed info for /australian-health-services/23019272/alexandra-family-medical-centre/services/alexandra-3714-grant#95888156-dda1-3891-c21a-8948687ccadf\n",
      "\n",
      "Retrieving detailed info for /australian-health-services/20035220/alexandra-medical-centre/services/alexandra-3714-downey#66775f58-4ebc-c36a-c0d2-71f2fb1f0eac\n",
      "\n",
      "Retrieving detailed info for /australian-health-services/20025425/yea-medical-centre/services/yea-3717-miller#0b2b7984-1253-8110-f2d1-18155ff0aaa4\n",
      "\n",
      "Retrieving detailed info for /australian-health-services/20044919/marysville-medical-clinic/services/marysville-3779-falls#5671a66d-31f1-e5bf-b3b1-6b330b79b744\n",
      "\n",
      "Retrieving detailed info for /australian-health-services/20030926/mansfield-medical-clinic/services/mansfield-3722-highett#79aeb38b-29d4-6001-3401-c155a1e29e06\n",
      "\n",
      "Retrieving detailed info for /australian-health-services/20046892/warburton-medical-group/services/warburton-3799-warburton#4312eb44-920e-315c-d8cf-a36a69dfa70b\n",
      "\n",
      "Retrieving detailed info for /australian-health-services/5b141a50-3424-4ea1-9d94-d8e0c4612498/atticus-health-jindivick/services/jindivick-3818-jacksons#a9c2d626-7ef9-4550-ae1d-87b599cad1fa\n",
      "\n",
      "Retrieving detailed info for /australian-health-services/20025060/yarra-junction-medical-centre/services/yarra-junction-3797-warburton#01504670-4295-b2f0-d907-e559eb0fc36c\n",
      "\n",
      "Retrieving detailed info for /australian-health-services/20081636/launching-place-medical-centre/services/launching-place-3139-centella#1ad43fa6-4f3a-3a4a-9b92-6054fe8e8930\n",
      "\n",
      "Retrieving detailed info for /australian-health-services/20118020/grantville-medical-centre/services/grantville-3984-bass#c04eb2e8-f5cb-fb98-52c5-5caa50540cc2\n",
      "\n",
      "Retrieving detailed info for /australian-health-services/0c302bef-baf8-4421-be1a-a2296850db00/nyora-medical-centre/services/nyora-3987-davis#3f33fa43-5c11-4cc4-a8fb-a156e509d539\n",
      "\n",
      "Retrieving detailed info for /australian-health-services/20035865/san-remo-medical-clinic/services/san-remo-3925-marine#7a941010-6e31-4180-059f-2c8e1540aa68\n",
      "\n",
      "Retrieving detailed info for /australian-health-services/20044620/lang-lang-community-family-medicine/services/lang-lang-3984-whitstable#7e2424c3-d064-ef1a-fce4-bc909e7bd044\n",
      "\n",
      "Retrieving detailed info for /australian-health-services/20044542/wonthaggi-medical-group/services/wonthaggi-3995-murray#ebff30e0-45dd-ad39-e4be-8b8c0d85ebbc\n",
      "\n",
      "Retrieving detailed info for /australian-health-services/d77e51c5-cfc9-4d8e-8c32-aff6ded396dd/ochre-medical-centre-clunes/services/clunes-3370-service#0f182619-2028-49e7-b2e2-83d91d526841\n",
      "\n",
      "Retrieving detailed info for /australian-health-services/20035998/clunes-medical-centre/services/clunes-3370-service#2d4482cc-c0cc-3899-b54e-084cb04cff5a\n",
      "\n",
      "Retrieving detailed info for /australian-health-services/20037803/ballarat-community-health-lucas/services/lucas-3350-lilburne#29b954a8-acba-1503-fd5e-c0e12fc06555\n",
      "\n",
      "Retrieving detailed info for /australian-health-services/20131450/wendouree-medical-centre/services/wendouree-3355-gillies#4f7fe2fc-3f33-3b88-5977-068ef581da28\n",
      "\n",
      "Retrieving detailed info for /australian-health-services/a7a03b9a-397a-4fea-a808-b0cfba96892d/ballarat-doctors/services/wendouree-3355-learmonth#9b1e08a0-e4a2-419b-9028-dd68bd805450\n",
      "\n",
      "Retrieving detailed info for /australian-health-services/20029130/nightingale-clinic/services/maryborough-3465-neill#56a520e7-ff76-8ac0-2d41-4241bb1ec1bb\n",
      "\n",
      "Retrieving detailed info for /australian-health-services/20035944/clarendon-medical-centre/services/maryborough-3465-neill#d9e87530-d131-c461-6ce2-6a4ed548f994\n",
      "\n",
      "Retrieving detailed info for /australian-health-services/23024924/dr-jim-sharples'-clinic/services/talbot-3371-scandinavian#c7a799b0-3a8d-6b8d-d286-b39ab0be5ae0\n",
      "\n",
      "Retrieving detailed info for /australian-health-services/20124182/tristar-medical-group-avoca/services/avoca-3467-liebig#bd529779-fde8-57af-b094-d137e2e4039e\n",
      "\n",
      "Retrieving detailed info for /australian-health-services/20035001/dunolly-medical-practice/services/dunolly-3472-havelock#1df583e6-b33e-7c4b-3914-106113b0031a\n",
      "\n",
      "Retrieving detailed info for /australian-health-services/20048101/toora-medical-centre/services/toora-3962-welshpool#74bc109f-1c8d-90c6-efa6-cadc335ffdeb\n",
      "\n",
      "Retrieving detailed info for /australian-health-services/20033978/foster-medical-centre/services/foster-3960-station#5489308e-fad1-1d2f-23af-b83eb3c6025a\n",
      "\n",
      "Retrieving detailed info for /australian-health-services/20031882/king-street-clinic/services/yarram-3971-king#dd9b6e9e-dec8-2098-48b1-2ba0be0f03c8\n",
      "\n",
      "Retrieving detailed info for /australian-health-services/20046154/yarram-medical-centre/services/yarram-3971-commercial#22b5a4a8-5d86-9c43-e0ac-04adc404a6b1\n",
      "\n",
      "Retrieving detailed info for /australian-health-services/20044834/mirboo-north-medical-centre/services/mirboo-north-3871-ridgway#03dafbc3-3f83-52ff-c50c-c59f0a9b7850\n",
      "\n",
      "Retrieving detailed info for /australian-health-services/35fb0df8-6e18-4a03-adbd-6c94b635ee2b/palmers-medical-centre-woodlea/services/aintree-3336-lim#8748b61b-4e97-46c2-98d1-9aa6aedaf507\n"
     ]
    },
    {
     "name": "stdout",
     "output_type": "stream",
     "text": [
      "\n",
      "Retrieving detailed info for /australian-health-services/d919e83d-aa0e-42e5-8162-cdd495c123ba/four-corners-medical/services/cobblebank-3338-ferris-rd#488b53b9-ffbb-480e-e788-5357cae46cc1\n",
      "\n",
      "Retrieving detailed info for /australian-health-services/23022902/aspire-medical-and-skin-centre/services/hillside-3037-sanctuary#134627e7-7652-191a-193d-dd296b863d06\n",
      "\n",
      "Retrieving detailed info for /australian-health-services/20053126/taylors-hill-medical-clinic/services/taylors-hill-3037-corner-gourlay-road-and-hume#dea8de2d-fbde-51cd-cad5-10d623f078d8\n",
      "\n",
      "Retrieving detailed info for /australian-health-services/2d47cc9a-6978-493a-91a1-a1e511207065/redicare-medical-centre/services/caroline-springs-3023-caroline-springs#5b4307d6-c681-4eb8-8606-52f4c56cb7bb\n",
      "\n",
      "Retrieving detailed info for /australian-health-services/20046960/apollo-bay-medical-centre/services/apollo-bay-3233-mclachlan#0cb0dae6-27bb-0bd5-1bb9-0b1cf599a26c\n",
      "\n",
      "Retrieving detailed info for /australian-health-services/20035805/corangamite-clinic/services/colac-3250-miller#d71c368d-ff79-93cb-1f7d-11bf3c8e740a\n",
      "\n",
      "Retrieving detailed info for /australian-health-services/f798219a-5d99-45c3-a989-790ad5672cb7/colac-central-medical-centre/services/colac-3250-bromfield#4860b7bb-1f48-4e37-9a3f-b6baf1e65a84\n",
      "\n",
      "Retrieving detailed info for /australian-health-services/20029028/otway-medical-clinic/services/colac-3250-connor#143be742-98f4-d01d-6a55-752552b063a5\n",
      "\n",
      "Retrieving detailed info for /australian-health-services/20153628/colac-medical-centre/services/colac-3250-murray#14a268f2-e759-2c06-3426-22829133e26b\n",
      "\n",
      "Retrieving detailed info for /australian-health-services/20024986/aireys-inlet-medical-centre/services/aireys-inlet-3231-great-ocean#71a770a3-ae56-4c57-1817-5ae0367ccda1\n",
      "\n",
      "Retrieving detailed info for /australian-health-services/20046120/anglesea-medical/services/anglesea-3230-mcmillan#e488ab74-d4fe-fed1-250e-453203f5ff70\n",
      "\n",
      "Retrieving detailed info for /australian-health-services/20031130/lorne-medical-centre/services/lorne-3232-mountjoy#e6b87246-db6e-398f-1cf1-88807c4185cc\n",
      "\n",
      "Retrieving detailed info for /australian-health-services/20032153/karuna-maya-medicine-tree/services/jan-juc-3228-princes#2bbac89d-7fb1-b2b5-7370-d69f6e5f739b\n",
      "\n",
      "Retrieving detailed info for /australian-health-services/20118788/torquay-medical-health-wellness-clinic/services/torquay-3228-geelong#e27fb7c1-3f0e-dfbb-6179-66434945f4c9\n",
      "\n",
      "Retrieving detailed info for /australian-health-services/23027772/stratford-medical-centre-victoria/services/stratford-3862-tyers#b808dfd1-9353-cd48-a069-3540b8e5f2cf\n",
      "\n",
      "Retrieving detailed info for /australian-health-services/20051670/ramahyuck-gippsland-family-practice/services/sale-3850-stead#01d1a383-e61d-9ca7-1876-cfc1fcbbcf75\n",
      "\n",
      "Retrieving detailed info for /australian-health-services/20036452/central-gippsland-health-service/services/sale-3850-guthridge#4309ba4b-1356-7134-17ff-87becd31bd8c\n",
      "\n",
      "Retrieving detailed info for /australian-health-services/20050654/inglis-medical-centre/services/sale-3850-inglis#4bea9c3e-9251-19d5-97cf-aa2a296fd3da\n",
      "\n",
      "Retrieving detailed info for /australian-health-services/20035991/clocktower-medical-centre/services/sale-3850-raymond#517e8770-8692-f638-3dd5-c97e956f163c\n",
      "\n",
      "Retrieving detailed info for /australian-health-services/20030612/mcnamara-clinic/services/airport-west-3042-mcnamara#df67fd7c-3b1f-52e2-d4ef-d8b30809c3e3\n",
      "\n",
      "Retrieving detailed info for /australian-health-services/20047282/the-practice-of-dr-chin-kum-ho/services/airport-west-3042-mcnamara#880ecdd6-a8e3-59d2-22ea-02a9a951db24\n",
      "\n",
      "Retrieving detailed info for /australian-health-services/23027736/myhealth-airport-west/services/airport-west-3042-louis#b300349f-6e69-932d-6793-fde450c8e87b\n",
      "\n",
      "Retrieving detailed info for /australian-health-services/20148175/essendon-fields-medical-centre/services/essendon-fields-3041-english#c422d24d-2e1a-9109-f1c5-048b479de0df\n",
      "\n",
      "Retrieving detailed info for /australian-health-services/20046099/ross-court-medical-complex/services/niddrie-3042-ross#02eb44e7-52a5-3796-b864-ca1394cbe387\n",
      "\n",
      "Retrieving detailed info for /australian-health-services/20028281/rainbow-general-practice/services/rainbow-3424-sanders#8e132528-4db3-dee8-b1bb-b7a2f8ab37a6\n",
      "\n",
      "Retrieving detailed info for /australian-health-services/20032586/hopetoun-medical-clinic/services/hopetoun-3396-mitchell#d14e2244-f64c-6ec6-0134-2ca374d69221\n",
      "\n",
      "Retrieving detailed info for /australian-health-services/20158749/rural-women's-gp-service-hopetoun-medical-clinic/services/hopetoun-3396-mitchell#f95cf237-0f80-1188-7e82-c18505ce13c3\n",
      "\n",
      "Retrieving detailed info for /australian-health-services/20032445/jeparit-medical-clinic/services/jeparit-3423-charles#93f7a10b-0888-fb8d-6f22-10d39c111c3f\n",
      "\n",
      "Retrieving detailed info for /australian-health-services/20025753/west-wimmera-health-service-jeparit-campus/services/jeparit-3423-charles#7a1e7f91-531d-8675-855b-53737c4e8ba3\n",
      "\n",
      "Retrieving detailed info for /australian-health-services/6300a4b7-377c-4a39-4da4-17c45e9af71a/deer-park-medical-centre-brimbank-shopping-centre/services/deer-park-3023-neale#6f5e0df9-f7a7-4555-9dcc-59d4ac32a3b8\n",
      "\n",
      "Retrieving detailed info for /australian-health-services/20035291/deer-park-medical-centre/services/deer-park-3023-neale#999da249-d348-a60b-ac01-65756326e0a6\n",
      "\n",
      "Retrieving detailed info for /australian-health-services/20155280/brimbank-medical-centre/services/deer-park-3023-corner-neale#32fac9e8-44a2-b515-0480-87c071b8d7b8\n",
      "\n",
      "Retrieving detailed info for /australian-health-services/20045640/main-road-medical-centre/services/st-albans-3021-main#c08089dc-124f-be92-198f-b8d35c70f397\n",
      "\n",
      "Retrieving detailed info for /australian-health-services/20025776/western-family-medical-centre/services/cairnlea-3023-station#81b6d65f-af12-ea0c-4805-297541b71568\n",
      "\n",
      "Retrieving detailed info for /australian-health-services/20030158/mills-street-clinic/services/middle-park-3206-mills#21734d5c-3614-0bce-a6af-081bb84ac2d9\n",
      "\n",
      "Retrieving detailed info for /australian-health-services/20027303/albert-park-medical-centre/services/albert-park-3206-dundas#29313005-0d8d-97c8-7a47-22fb1c9d8e68\n",
      "\n",
      "Retrieving detailed info for /australian-health-services/20035880/craigrossie-clinic/services/albert-park-3206-victoria#e877ed98-9863-5a30-870f-db97275478cf\n",
      "\n",
      "Retrieving detailed info for /australian-health-services/dcd2f14d-c253-46b3-9763-e01610b82001/health-104/services/middle-park-3206-canterbury#7920a14d-77d0-4c87-8cd6-4474c503b242\n",
      "\n",
      "Retrieving detailed info for /australian-health-services/20034160/eng-medical-centre/services/middle-park-3206-armstrong#5aba26ce-cba0-0f0c-a62a-72edf8d6ca8b\n",
      "\n",
      "Retrieving detailed info for /australian-health-services/23023944/dr-juliusz-buras-general-practice/services/churchill-3842-philip#de993c58-fee3-37fa-a6dd-cd04f2fe4183\n",
      "\n",
      "Retrieving detailed info for /australian-health-services/20031710/latrobe-community-health-service-churchill/services/churchill-3842-philip#16f7f829-64e4-810c-1d02-672fdfd2bebe\n",
      "\n",
      "Retrieving detailed info for /australian-health-services/20158797/box-hill-superclinic/services/box-hill-3128-whitehorse#2fb9bb05-fd51-f34c-7cb6-a09b3745a662\n",
      "\n",
      "Retrieving detailed info for /australian-health-services/20048007/box-hill-family-clinic/services/box-hill-3128-elgar#697e80d8-b40c-5141-472c-a4d1e1e3dac4\n",
      "\n",
      "Retrieving detailed info for /australian-health-services/20111152/box-hill-dr-yang's-clinic/services/box-hill-3128-prospect#fed178ca-bbe3-7922-4c7e-8c77cc816c28\n",
      "\n",
      "Retrieving detailed info for /australian-health-services/20029829/mont-albert-medical-centre/services/surrey-hills-3127-union#5bba3ba9-3186-9e96-c94f-ea5ea9194b44\n",
      "\n",
      "Retrieving detailed info for /australian-health-services/20044804/surrey-hills-health-matters/services/surrey-hills-3127-whitehorse#b9fcd66b-981a-9c9d-0e5c-dd53a6e44bb8\n",
      "\n",
      "Retrieving detailed info for /australian-health-services/20037618/belmore-road-medical-centre/services/balwyn-3103-belmore#1f940d14-23ec-26b4-839c-d8b0c357d78a\n",
      "\n",
      "Retrieving detailed info for /australian-health-services/23023520/elite-geriatric-care-box-hill/services/box-hill-3128-thames#cd02a5d0-8985-9730-676d-576abb7b1a23\n",
      "\n",
      "Retrieving detailed info for /australian-health-services/20034399/eastern-health-box-hill-hospital/services/box-hill-3128-arnold#44912e83-0833-2cc4-46d9-075e8b3abeee\n",
      "\n",
      "Retrieving detailed info for /australian-health-services/20025307/woodhouse-medical-centre/services/box-hill-north-3129-station#30b426ad-08e3-fc13-a77d-4a71b97f050d\n"
     ]
    },
    {
     "name": "stdout",
     "output_type": "stream",
     "text": [
      "\n",
      "Retrieving detailed info for /australian-health-services/07129685-19ca-4287-9c1c-4eeb86d448de/greythorn-doctors-clinic/services/balwyn-north-3104-greythorn#46b421c7-cf38-4c82-af68-640f88f55f4a\n",
      "\n",
      "Retrieving detailed info for /australian-health-services/23022428/sunshine-marketplace-medical-centre/services/sunshine-3020-harvester#43850003-5802-54e1-6425-258a63fe6084\n",
      "\n",
      "Retrieving detailed info for /australian-health-services/704a10f2-4a8c-4d32-a700-83771265e05e/hume-medical-centre/services/sunshine-west-3020-glengala#2b4deb17-7d5c-4864-a1d2-34cde210ee9b\n",
      "\n",
      "Retrieving detailed info for /australian-health-services/22000199/the-medical-corner/services/sunshine-west-3020-glengala#bfdc0a67-c261-47d7-c091-9842fc57813e\n",
      "\n",
      "Retrieving detailed info for /australian-health-services/20053293/dhl-medical-clinic/services/sunshine-3020-durham#0f0bc62a-6671-7b21-94da-0bf227812b24\n",
      "\n",
      "Retrieving detailed info for /australian-health-services/20050185/medical-one-sunshine/services/sunshine-3020-hampshire#fb29dc82-ba73-3006-cb6a-b757ba047261\n"
     ]
    }
   ],
   "source": [
    "# for each of the practices, scrape the additional detailed info\n",
    "df_all_details_temp = []\n",
    "\n",
    "for url in df_final['Name'].values:\n",
    "    print(f'\\nRetrieving detailed info for {url}')\n",
    "    url_name = f\"{url_base2}{url}\"\n",
    "    df_temp = get_page_info(url_name)\n",
    "    df_all_details_temp.append(df_temp)\n",
    "    \n",
    "df_all_details = pd.concat(df_all_details_temp).drop_duplicates().reset_index().iloc[:, 1:]"
   ]
  }
 ],
 "metadata": {
  "kernelspec": {
   "display_name": "Python 3 (ipykernel)",
   "language": "python",
   "name": "python3"
  },
  "language_info": {
   "codemirror_mode": {
    "name": "ipython",
    "version": 3
   },
   "file_extension": ".py",
   "mimetype": "text/x-python",
   "name": "python",
   "nbconvert_exporter": "python",
   "pygments_lexer": "ipython3",
   "version": "3.8.10"
  }
 },
 "nbformat": 4,
 "nbformat_minor": 5
}
