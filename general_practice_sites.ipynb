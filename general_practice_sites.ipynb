{
 "cells": [
  {
   "cell_type": "markdown",
   "id": "623813a0",
   "metadata": {},
   "source": [
    "# Australian General Practice location scraper\n",
    "\n",
    "5 October 2021\n",
    "\n",
    "---\n",
    "\n",
    "**Description**\n",
    "\n",
    "It is difficult to find existing datasets for general practice locations in Australia (e.g., from data.gov.au or data.vic.gov.au). Healthdirect appears to be the best official source of health provider locations. \n",
    "\n",
    "This scraper contains some basic code to scrape healthdirect.gov.au to get the names and locations of all General Practice sites in Victoria. It can be modified to obtain all those in any other given state, the whole country or just a subset of postcodes.\n",
    "\n",
    "\n",
    "**Instructions**\n",
    "- Make sure that pandas, requests and lxml are installed\n",
    "- Ensure that the reference postcode data is specified correctly\n",
    "- Run each of the cells in order. "
   ]
  },
  {
   "cell_type": "code",
   "execution_count": 2,
   "id": "4c0e6d31",
   "metadata": {},
   "outputs": [],
   "source": [
    "import requests\n",
    "import pandas as pd\n",
    "from lxml import html\n",
    "from time import sleep\n",
    "\n",
    "from requests.adapters import HTTPAdapter\n",
    "from requests.packages.urllib3.util.retry import Retry"
   ]
  },
  {
   "cell_type": "markdown",
   "id": "43d25b84",
   "metadata": {},
   "source": [
    "## Define paths and utility functions\n",
    "\n",
    "- Specify the required data elements from the website\n",
    "- Create utility function to extract data elements from web page"
   ]
  },
  {
   "cell_type": "code",
   "execution_count": 3,
   "id": "d6cb6cf3",
   "metadata": {},
   "outputs": [],
   "source": [
    "# these defines the elements within the webpage where name and location information is recorded\n",
    "path_name = './/div[@class=\"veyron-hsf-page \"]/a/@href'\n",
    "path_address = './/div[@class=\"veyron-hsf-page \"]/a/@data-address'\n",
    "path_lat = './/div[@class=\"veyron-hsf-page \"]/a/@data-lat'\n",
    "path_long = './/div[@class=\"veyron-hsf-page \"]/a/@data-long'"
   ]
  },
  {
   "cell_type": "code",
   "execution_count": 4,
   "id": "b43ad2ab",
   "metadata": {},
   "outputs": [],
   "source": [
    "# the data elements that we are interested in\n",
    "data_scheme = {'Name': path_name,\n",
    "               'Address': path_address,\n",
    "               'Latitude': path_lat,\n",
    "               'Longitude': path_long}"
   ]
  },
  {
   "cell_type": "code",
   "execution_count": 5,
   "id": "1bca3b88",
   "metadata": {},
   "outputs": [],
   "source": [
    "def get_locations(text, data_scheme):\n",
    "    \"\"\"\n",
    "    Retrieve location information in web page\n",
    "    \n",
    "    Args\n",
    "    ----\n",
    "    text (str): the scraped data from the webpage containing\n",
    "    required information\n",
    "    data_scheme (dict): specifies paths for each data element\n",
    "    \n",
    "    Returns\n",
    "    pd.DataFrame with the parsed data\n",
    "    \"\"\"\n",
    "    tree = html.fromstring(text)\n",
    "    names = data_scheme.keys()\n",
    "    output_data = dict()\n",
    "    \n",
    "    for name in names:\n",
    "        path = data_scheme[name]\n",
    "        item_data = tree.xpath(path)\n",
    "        output_data[name] = item_data\n",
    "        \n",
    "    return pd.DataFrame(output_data)"
   ]
  },
  {
   "cell_type": "markdown",
   "id": "846f45f2",
   "metadata": {},
   "source": [
    "## Create list of suburb-postcode pairs\n",
    "\n",
    "Using reference postcode data, create the suburb-postcode pairs that we require to scrape location data for. This is specified in the ```folder``` and ```filename``` variables."
   ]
  },
  {
   "cell_type": "code",
   "execution_count": 6,
   "id": "55861d6c",
   "metadata": {},
   "outputs": [],
   "source": [
    "folder = 'reference_data'\n",
    "filename = f'{folder}/postcodes_scraped_221021.csv'\n",
    "df = pd.read_csv(filename)"
   ]
  },
  {
   "cell_type": "code",
   "execution_count": 7,
   "id": "eb8143e0",
   "metadata": {},
   "outputs": [],
   "source": [
    "# if we are only interested in the VIC postcodes (assuming that that file has a 'state' column)\n",
    "df_vic = df.query('state == \"VIC\"')"
   ]
  },
  {
   "cell_type": "code",
   "execution_count": 8,
   "id": "def4c574",
   "metadata": {},
   "outputs": [
    {
     "name": "stderr",
     "output_type": "stream",
     "text": [
      "/tmp/ipykernel_22755/2632753886.py:1: SettingWithCopyWarning: \n",
      "A value is trying to be set on a copy of a slice from a DataFrame.\n",
      "Try using .loc[row_indexer,col_indexer] = value instead\n",
      "\n",
      "See the caveats in the documentation: https://pandas.pydata.org/pandas-docs/stable/user_guide/indexing.html#returning-a-view-versus-a-copy\n",
      "  df_vic['suburb_formatted'] = df_vic['suburb'].apply(lambda s: s.replace(' ', '_'))\n"
     ]
    }
   ],
   "source": [
    "df_vic['suburb_formatted'] = df_vic['suburb'].apply(lambda s: s.replace(' ', '_'))"
   ]
  },
  {
   "cell_type": "code",
   "execution_count": 9,
   "id": "db39f697",
   "metadata": {},
   "outputs": [
    {
     "name": "stderr",
     "output_type": "stream",
     "text": [
      "/tmp/ipykernel_22755/2652691680.py:1: SettingWithCopyWarning: \n",
      "A value is trying to be set on a copy of a slice from a DataFrame.\n",
      "Try using .loc[row_indexer,col_indexer] = value instead\n",
      "\n",
      "See the caveats in the documentation: https://pandas.pydata.org/pandas-docs/stable/user_guide/indexing.html#returning-a-view-versus-a-copy\n",
      "  df_vic['suburb_postcode'] = df_vic['suburb_formatted'].str.lower() + '-' + df_vic['postcode'].astype(str)\n"
     ]
    }
   ],
   "source": [
    "df_vic['suburb_postcode'] = df_vic['suburb_formatted'].str.lower() + '-' + df_vic['postcode'].astype(str)"
   ]
  },
  {
   "cell_type": "code",
   "execution_count": 10,
   "id": "120cd585",
   "metadata": {},
   "outputs": [],
   "source": [
    "suburb_postcodes = list(df_vic['suburb_postcode'].values)\n",
    "\n",
    "pages = list(range(1,20)) # how many pages do we scrape for each of the suburb-postcode pairs?"
   ]
  },
  {
   "cell_type": "markdown",
   "id": "6a21e074",
   "metadata": {},
   "source": [
    "## URL list to scrape\n",
    "\n",
    "Create the list of URLs to scrape based on the suburb-postcode pairs that are required"
   ]
  },
  {
   "cell_type": "code",
   "execution_count": 11,
   "id": "8ab8e70c",
   "metadata": {},
   "outputs": [],
   "source": [
    "# the basic url\n",
    "url_base = 'https://www.healthdirect.gov.au/australian-health-services/results/'\n",
    "url_middle = '/tihcs-aht-11222/gp-general-practice?pageIndex='\n",
    "url_end = '&tab=SITE_VISIT'"
   ]
  },
  {
   "cell_type": "code",
   "execution_count": 12,
   "id": "5efddfd8",
   "metadata": {},
   "outputs": [],
   "source": [
    "# create the list of URLs to scrape\n",
    "urls = [f'{url_base}{suburb_postcode}{url_middle}{n}{url_end}' \n",
    "        for suburb_postcode in suburb_postcodes \n",
    "        for n in range(1, 5)]"
   ]
  },
  {
   "cell_type": "code",
   "execution_count": 13,
   "id": "6560c66d",
   "metadata": {},
   "outputs": [
    {
     "data": {
      "text/plain": [
       "3183"
      ]
     },
     "execution_count": 13,
     "metadata": {},
     "output_type": "execute_result"
    }
   ],
   "source": [
    "len(suburb_postcodes)"
   ]
  },
  {
   "cell_type": "markdown",
   "id": "2d92ce35",
   "metadata": {},
   "source": [
    "## Scrape the data\n",
    "\n",
    "For each of the URLs in the list ```urls``` request the data, parse it and append to list of dataframes ```df_list```."
   ]
  },
  {
   "cell_type": "code",
   "execution_count": 14,
   "id": "231c1290",
   "metadata": {},
   "outputs": [
    {
     "name": "stdout",
     "output_type": "stream",
     "text": [
      "There are 12732 URLs.\n"
     ]
    }
   ],
   "source": [
    "print(f'There are {len(urls)} URLs.')"
   ]
  },
  {
   "cell_type": "code",
   "execution_count": null,
   "id": "59a15f37",
   "metadata": {
    "scrolled": true
   },
   "outputs": [],
   "source": [
    "df_list = []\n",
    "urls_bad = []\n",
    "\n",
    "# in case the request returns an error, try again\n",
    "# this makes the scraper more robust\n",
    "retry_strategy = Retry(\n",
    "    total=3,\n",
    "    status_forcelist=[429, 500, 502, 503, 504],\n",
    "    method_whitelist=[\"GET\"]\n",
    ")\n",
    "\n",
    "adapter = HTTPAdapter(max_retries=retry_strategy)\n",
    "http = requests.Session()\n",
    "http.mount(\"https://\", adapter)\n",
    "http.mount(\"http://\", adapter)\n",
    "\n",
    "# loop through URLs scrape each one and parse data\n",
    "for n, url in enumerate(urls):\n",
    "    print(f'{n}: Scraping URL: {url}')\n",
    "    page = http.get(url)\n",
    "    print(f'status code: {page.status_code}')\n",
    "    if page.status_code == 200:\n",
    "        output_data = get_locations(page.text, data_scheme)\n",
    "    else:\n",
    "        print('Unsuccessful request')\n",
    "        urls_bad.append(url)\n",
    "    df_list.append(pd.DataFrame(output_data))"
   ]
  },
  {
   "cell_type": "code",
   "execution_count": null,
   "id": "9cf6f613",
   "metadata": {},
   "outputs": [],
   "source": [
    "# scrape URLs that caused could not be scraped initially."
   ]
  },
  {
   "cell_type": "markdown",
   "id": "a6eb2c5d",
   "metadata": {},
   "source": [
    "## Concatenate all the datasets for each suburb-postcode"
   ]
  },
  {
   "cell_type": "code",
   "execution_count": 18,
   "id": "6ce26be7",
   "metadata": {},
   "outputs": [],
   "source": [
    "df_final = pd.concat(df_list).drop_duplicates()"
   ]
  },
  {
   "cell_type": "code",
   "execution_count": 19,
   "id": "0d95418c",
   "metadata": {},
   "outputs": [
    {
     "data": {
      "text/html": [
       "<div>\n",
       "<style scoped>\n",
       "    .dataframe tbody tr th:only-of-type {\n",
       "        vertical-align: middle;\n",
       "    }\n",
       "\n",
       "    .dataframe tbody tr th {\n",
       "        vertical-align: top;\n",
       "    }\n",
       "\n",
       "    .dataframe thead th {\n",
       "        text-align: right;\n",
       "    }\n",
       "</style>\n",
       "<table border=\"1\" class=\"dataframe\">\n",
       "  <thead>\n",
       "    <tr style=\"text-align: right;\">\n",
       "      <th></th>\n",
       "      <th>Name</th>\n",
       "      <th>Address</th>\n",
       "      <th>Latitude</th>\n",
       "      <th>Longitude</th>\n",
       "    </tr>\n",
       "  </thead>\n",
       "  <tbody>\n",
       "    <tr>\n",
       "      <th>0</th>\n",
       "      <td>/australian-health-services/23011106/mount-hot...</td>\n",
       "      <td>32 Great Alpine Road, HOTHAM HEIGHTS 3741</td>\n",
       "      <td>-36.9833984375</td>\n",
       "      <td>147.142288208007812</td>\n",
       "    </tr>\n",
       "    <tr>\n",
       "      <th>1</th>\n",
       "      <td>/australian-health-services/20037189/bright-me...</td>\n",
       "      <td>115 Gavan Street, BRIGHT 3741</td>\n",
       "      <td>-36.7268142700195312</td>\n",
       "      <td>146.960708618164062</td>\n",
       "    </tr>\n",
       "    <tr>\n",
       "      <th>2</th>\n",
       "      <td>/australian-health-services/20046060/mount-bea...</td>\n",
       "      <td>1 Tawonga Crescent, MOUNT BEAUTY 3699</td>\n",
       "      <td>-36.7435798645019531</td>\n",
       "      <td>147.1715087890625</td>\n",
       "    </tr>\n",
       "    <tr>\n",
       "      <th>3</th>\n",
       "      <td>/australian-health-services/20045528/falls-cre...</td>\n",
       "      <td>1 Bogong High Plains Road, FALLS CREEK 3699</td>\n",
       "      <td>-36.8613243103027344</td>\n",
       "      <td>147.276687622070312</td>\n",
       "    </tr>\n",
       "    <tr>\n",
       "      <th>4</th>\n",
       "      <td>/australian-health-services/20027328/standish-...</td>\n",
       "      <td>107 Standish Street, MYRTLEFORD 3737</td>\n",
       "      <td>-36.5577354431152344</td>\n",
       "      <td>146.72650146484375</td>\n",
       "    </tr>\n",
       "    <tr>\n",
       "      <th>...</th>\n",
       "      <td>...</td>\n",
       "      <td>...</td>\n",
       "      <td>...</td>\n",
       "      <td>...</td>\n",
       "    </tr>\n",
       "    <tr>\n",
       "      <th>2</th>\n",
       "      <td>/australian-health-services/644bbf79-15bd-4f59...</td>\n",
       "      <td>12 STANLEY STREET, WEST WODONGA 3690</td>\n",
       "      <td>-36.122049720</td>\n",
       "      <td>146.886751470</td>\n",
       "    </tr>\n",
       "    <tr>\n",
       "      <th>0</th>\n",
       "      <td>/australian-health-services/23026930/aurora-vi...</td>\n",
       "      <td>Shop 8, 315 Harvest Home Road, EPPING 3076</td>\n",
       "      <td>-37.6214637756347656</td>\n",
       "      <td>145.0064697265625</td>\n",
       "    </tr>\n",
       "    <tr>\n",
       "      <th>1</th>\n",
       "      <td>/australian-health-services/fe9c83fc-a64b-4b5f...</td>\n",
       "      <td>878 EDGARS ROAD, EPPING 3076</td>\n",
       "      <td>-37.622501480</td>\n",
       "      <td>145.005549120</td>\n",
       "    </tr>\n",
       "    <tr>\n",
       "      <th>3</th>\n",
       "      <td>/australian-health-services/9fceb613-6dfc-4320...</td>\n",
       "      <td>Epping North Shopping Centre, Shop 10, 2 Lynda...</td>\n",
       "      <td>-37.6276764</td>\n",
       "      <td>145.02700439</td>\n",
       "    </tr>\n",
       "    <tr>\n",
       "      <th>4</th>\n",
       "      <td>/australian-health-services/20052606/lyndarum-...</td>\n",
       "      <td>Shop 3, 1 Lyndarum Drive, EPPING 3076</td>\n",
       "      <td>-37.6284942626953125</td>\n",
       "      <td>145.02703857421875</td>\n",
       "    </tr>\n",
       "  </tbody>\n",
       "</table>\n",
       "<p>1859 rows × 4 columns</p>\n",
       "</div>"
      ],
      "text/plain": [
       "                                                 Name  \\\n",
       "0   /australian-health-services/23011106/mount-hot...   \n",
       "1   /australian-health-services/20037189/bright-me...   \n",
       "2   /australian-health-services/20046060/mount-bea...   \n",
       "3   /australian-health-services/20045528/falls-cre...   \n",
       "4   /australian-health-services/20027328/standish-...   \n",
       "..                                                ...   \n",
       "2   /australian-health-services/644bbf79-15bd-4f59...   \n",
       "0   /australian-health-services/23026930/aurora-vi...   \n",
       "1   /australian-health-services/fe9c83fc-a64b-4b5f...   \n",
       "3   /australian-health-services/9fceb613-6dfc-4320...   \n",
       "4   /australian-health-services/20052606/lyndarum-...   \n",
       "\n",
       "                                              Address              Latitude  \\\n",
       "0          32 Great Alpine Road, HOTHAM HEIGHTS 3741         -36.9833984375   \n",
       "1                      115 Gavan Street, BRIGHT 3741   -36.7268142700195312   \n",
       "2              1 Tawonga Crescent, MOUNT BEAUTY 3699   -36.7435798645019531   \n",
       "3        1 Bogong High Plains Road, FALLS CREEK 3699   -36.8613243103027344   \n",
       "4               107 Standish Street, MYRTLEFORD 3737   -36.5577354431152344   \n",
       "..                                                ...                   ...   \n",
       "2               12 STANLEY STREET, WEST WODONGA 3690          -36.122049720   \n",
       "0         Shop 8, 315 Harvest Home Road, EPPING 3076   -37.6214637756347656   \n",
       "1                       878 EDGARS ROAD, EPPING 3076          -37.622501480   \n",
       "3   Epping North Shopping Centre, Shop 10, 2 Lynda...           -37.6276764   \n",
       "4              Shop 3, 1 Lyndarum Drive, EPPING 3076   -37.6284942626953125   \n",
       "\n",
       "              Longitude  \n",
       "0   147.142288208007812  \n",
       "1   146.960708618164062  \n",
       "2     147.1715087890625  \n",
       "3   147.276687622070312  \n",
       "4    146.72650146484375  \n",
       "..                  ...  \n",
       "2         146.886751470  \n",
       "0     145.0064697265625  \n",
       "1         145.005549120  \n",
       "3          145.02700439  \n",
       "4    145.02703857421875  \n",
       "\n",
       "[1859 rows x 4 columns]"
      ]
     },
     "execution_count": 19,
     "metadata": {},
     "output_type": "execute_result"
    }
   ],
   "source": [
    "df_final"
   ]
  },
  {
   "cell_type": "markdown",
   "id": "10620ab1",
   "metadata": {},
   "source": [
    "## Tidy up the data\n",
    "\n",
    "- Remove unneccessary white spaces\n",
    "- drop duplicates"
   ]
  },
  {
   "cell_type": "code",
   "execution_count": 20,
   "id": "84e104f8",
   "metadata": {},
   "outputs": [],
   "source": [
    "for column in df_final.columns:\n",
    "    df_final[column] = df_final[column].str.strip()"
   ]
  },
  {
   "cell_type": "code",
   "execution_count": 21,
   "id": "cab08a60",
   "metadata": {},
   "outputs": [],
   "source": [
    "output_folder = '/home/user/Desktop/Data/scraped/gp_locations'\n",
    "\n",
    "df_final.drop_duplicates().to_csv(f'{output_folder}/gp_scraped_050322_all.csv')"
   ]
  }
 ],
 "metadata": {
  "kernelspec": {
   "display_name": "Python 3 (ipykernel)",
   "language": "python",
   "name": "python3"
  },
  "language_info": {
   "codemirror_mode": {
    "name": "ipython",
    "version": 3
   },
   "file_extension": ".py",
   "mimetype": "text/x-python",
   "name": "python",
   "nbconvert_exporter": "python",
   "pygments_lexer": "ipython3",
   "version": "3.8.10"
  }
 },
 "nbformat": 4,
 "nbformat_minor": 5
}
